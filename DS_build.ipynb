{
 "cells": [
  {
   "cell_type": "code",
   "execution_count": 3,
   "metadata": {},
   "outputs": [],
   "source": [
    "import pandas as pd\n",
    "import numpy as np\n",
    "path_timesheet = './timesheet-system-2.xlsx'\n",
    "path_project_task_system_1 = './project.task-system-1.xls'\n",
    "path_project_task_system_2 = './project.task-system-2.xlsx'\n",
    "df_timesheet = pd.read_excel(path_timesheet)"
   ]
  },
  {
   "cell_type": "code",
   "execution_count": 7,
   "metadata": {},
   "outputs": [],
   "source": [
    "df_timesheet[\"Feature\"]=df_timesheet[\"Task/Display Name\"].fillna(\"\").str.cat(df_timesheet[\"Task/Description\"].fillna(\"\")).str.cat(df_timesheet[\"Description\"].fillna(\"\"))"
   ]
  },
  {
   "cell_type": "code",
   "execution_count": null,
   "metadata": {},
   "outputs": [],
   "source": [
    "df_timesheet[\"Feature\"]=df_timesheet[\"Task/Display Name\"].fillna(\"\").str.cat(df_timesheet[\"Task/Description\"].fillna(\"\"))"
   ]
  },
  {
   "cell_type": "code",
   "execution_count": 8,
   "metadata": {},
   "outputs": [
    {
     "data": {
      "text/plain": [
       "0                         WarehouseNPI integration Analysis\n",
       "1         CRM workflow and shopping cart changesDesign t...\n",
       "2                          R&D on NetSuiteWorked on Payroll\n",
       "3         Missing TaskWorking upon Added Changes in Bill...\n",
       "4         Missing Taskskt session for integration and pa...\n",
       "5         Changes in Customer service and Lab Changed Ch...\n",
       "6         Warehousetwo different filters in DO for ref b...\n",
       "7           Warehouseadd resolution under help desk support\n",
       "8         WarehouseEmail_Sales_Rep config  under doctor ...\n",
       "9         Tony & GuyDone and finalized additional functi...\n",
       "10                                      SDC ReportingReview\n",
       "11                  Odoo 9setting up demo for Manufacturing\n",
       "12        Payroll research, configuration and testingWor...\n",
       "13        Bista Support & General WorkBista Support & Ge...\n",
       "14        Blog & Demosoracle module upgarding issue ,rep...\n",
       "15            Bista Generallearned accounting balance sheet\n",
       "16        changes in crm flowworked on permission to cal...\n",
       "17        BoM structure view custom ModuleCustom tree vi...\n",
       "18                SDC Sweden ReportFormatting Reports (CR) \n",
       "19        Commission changes for FEBworking on PC change...\n",
       "20                      OPS/CR/005merged the branch on git \n",
       "21        Staging and Analysiscode merging,fixing and te...\n",
       "22                      Other TaskR& D on periodic Section \n",
       "23                Netsuite Payroll Module review with Team \n",
       "24            Netsuite Sync up meeting with Team for Video \n",
       "25        Working upon bugs and issuesworked on ftp chan...\n",
       "26                                     RamcoResumes review \n",
       "27        RnD on NetsuiteWorked on Payroll Calculation S...\n",
       "28        Load TestingLoad Testing on Product page with ...\n",
       "29        Issues and changes on liveSolving the issues P...\n",
       "                                ...                        \n",
       "198868    Add work center description to workorder<p>Des...\n",
       "198869                  New GP InstanceData check, meetings\n",
       "198870    Git code upload and testingDid work for upload...\n",
       "198871    Migration v10 to v11testing purchase flow with...\n",
       "198872    Store location developmentWorking on store loc...\n",
       "198873    Support<p>It includes support and miscellaneou...\n",
       "198874    Magento v2.x Install,make connector Odoo v10,U...\n",
       "198875    Data Migrationmade  the list of missing  user,...\n",
       "198876    Fiscal Invoice Live SupportFix coppel addenda ...\n",
       "198877    Jan- Meeting and Task Review 2018Looking into ...\n",
       "198878    Marcadolibre - eCommercehow to handle token in...\n",
       "198879        Ach file creationsynch up meeting with preeti\n",
       "198880       Improve the knowledge <p><br></p>odoo 11 study\n",
       "198881    Magento connector with odoounderstand the mint...\n",
       "198882    CRM related tasksClening new delivery master r...\n",
       "198883                missing daily taskRnd On Processmaker\n",
       "198884    Salesperson De-allocationWorked on feature of ...\n",
       "198885    Database Migration 6.1 to 10.0<p>- To migrate ...\n",
       "198886    User Manual<p>Need to create User Manual for n...\n",
       "198887    Ebay demo for one shop stopWorked on connector...\n",
       "198888     wv_knowledgeTransfortesting accessory daily jobs\n",
       "198889    Domo integration with Red shift demo for WVWor...\n",
       "198890    change MRP Journal EntriesWorked on change sto...\n",
       "198891    Vistra General Task<p><br></p>working on email...\n",
       "198892        Client Meeting<p><br></p>Attended client call\n",
       "198893    Ach file creationChecked, debugged the java pr...\n",
       "198894    Stripe Payment and Advanced Payment Feature an...\n",
       "198895    UnInvoiced Report<p>For the Related PO search ...\n",
       "198896     General Tasks<p><br></p>Changes in LMS Scheduler\n",
       "198897    Meetings & QA Process<p><br></p>discussion reg...\n",
       "Name: Feature, Length: 198898, dtype: object"
      ]
     },
     "execution_count": 8,
     "metadata": {},
     "output_type": "execute_result"
    }
   ],
   "source": [
    "df_timesheet[\"Feature\"]=df_timesheet[\"Feature\"].astype(str)\n",
    "df_timesheet[\"Feature\"]"
   ]
  },
  {
   "cell_type": "code",
   "execution_count": 9,
   "metadata": {},
   "outputs": [
    {
     "data": {
      "text/html": [
       "<div>\n",
       "<style scoped>\n",
       "    .dataframe tbody tr th:only-of-type {\n",
       "        vertical-align: middle;\n",
       "    }\n",
       "\n",
       "    .dataframe tbody tr th {\n",
       "        vertical-align: top;\n",
       "    }\n",
       "\n",
       "    .dataframe thead th {\n",
       "        text-align: right;\n",
       "    }\n",
       "</style>\n",
       "<table border=\"1\" class=\"dataframe\">\n",
       "  <thead>\n",
       "    <tr style=\"text-align: right;\">\n",
       "      <th></th>\n",
       "      <th>Feature</th>\n",
       "      <th>Task/ID</th>\n",
       "    </tr>\n",
       "  </thead>\n",
       "  <tbody>\n",
       "    <tr>\n",
       "      <th>173142</th>\n",
       "      <td>Prepare cost centers for abu dhabi</td>\n",
       "      <td>0</td>\n",
       "    </tr>\n",
       "    <tr>\n",
       "      <th>175909</th>\n",
       "      <td>Created module and shared with alpesh for fnf ...</td>\n",
       "      <td>0</td>\n",
       "    </tr>\n",
       "    <tr>\n",
       "      <th>176282</th>\n",
       "      <td>Improved code for gratuity and access right is...</td>\n",
       "      <td>0</td>\n",
       "    </tr>\n",
       "    <tr>\n",
       "      <th>176056</th>\n",
       "      <td>Created screen for configuration and added rec...</td>\n",
       "      <td>0</td>\n",
       "    </tr>\n",
       "    <tr>\n",
       "      <th>171846</th>\n",
       "      <td>Working on Multiple invoice payment</td>\n",
       "      <td>0</td>\n",
       "    </tr>\n",
       "    <tr>\n",
       "      <th>172449</th>\n",
       "      <td>Improved code for return petty cash funtionali...</td>\n",
       "      <td>0</td>\n",
       "    </tr>\n",
       "    <tr>\n",
       "      <th>178825</th>\n",
       "      <td>Create module for allow to create comp-off req...</td>\n",
       "      <td>0</td>\n",
       "    </tr>\n",
       "    <tr>\n",
       "      <th>177632</th>\n",
       "      <td>Improved code and attend meeting of empower.</td>\n",
       "      <td>0</td>\n",
       "    </tr>\n",
       "    <tr>\n",
       "      <th>172955</th>\n",
       "      <td>OS F&amp;F for employee in manage petty cash flow....</td>\n",
       "      <td>0</td>\n",
       "    </tr>\n",
       "    <tr>\n",
       "      <th>158518</th>\n",
       "      <td>Completed the solution design for purchase</td>\n",
       "      <td>0</td>\n",
       "    </tr>\n",
       "    <tr>\n",
       "      <th>172274</th>\n",
       "      <td>Improvement F&amp;F process for chatter details re...</td>\n",
       "      <td>0</td>\n",
       "    </tr>\n",
       "    <tr>\n",
       "      <th>172273</th>\n",
       "      <td>Partner create or write in bista_hr from gratu...</td>\n",
       "      <td>0</td>\n",
       "    </tr>\n",
       "    <tr>\n",
       "      <th>152847</th>\n",
       "      <td>Completed solution design for Reports</td>\n",
       "      <td>0</td>\n",
       "    </tr>\n",
       "    <tr>\n",
       "      <th>172438</th>\n",
       "      <td>Improved code for return petty cash funtionali...</td>\n",
       "      <td>0</td>\n",
       "    </tr>\n",
       "    <tr>\n",
       "      <th>154035</th>\n",
       "      <td>Completed the design solution for accounting.</td>\n",
       "      <td>0</td>\n",
       "    </tr>\n",
       "    <tr>\n",
       "      <th>172797</th>\n",
       "      <td>OS F&amp;F for employee in manage petty cash flow....</td>\n",
       "      <td>0</td>\n",
       "    </tr>\n",
       "    <tr>\n",
       "      <th>168021</th>\n",
       "      <td>Sales Order annual total on report and calcula...</td>\n",
       "      <td>0</td>\n",
       "    </tr>\n",
       "    <tr>\n",
       "      <th>172631</th>\n",
       "      <td>After verification for reconcilation implement...</td>\n",
       "      <td>0</td>\n",
       "    </tr>\n",
       "    <tr>\n",
       "      <th>172003</th>\n",
       "      <td>F&amp;F functionality in calculate panelties, Asse...</td>\n",
       "      <td>0</td>\n",
       "    </tr>\n",
       "    <tr>\n",
       "      <th>176672</th>\n",
       "      <td>Discussed with manager for create partner or u...</td>\n",
       "      <td>0</td>\n",
       "    </tr>\n",
       "    <tr>\n",
       "      <th>175635</th>\n",
       "      <td>Travel module in add needed data and check wit...</td>\n",
       "      <td>0</td>\n",
       "    </tr>\n",
       "    <tr>\n",
       "      <th>172630</th>\n",
       "      <td>Analysis for petty cash &amp; expense how to manag...</td>\n",
       "      <td>0</td>\n",
       "    </tr>\n",
       "    <tr>\n",
       "      <th>172450</th>\n",
       "      <td>Improved code for expense details use in other...</td>\n",
       "      <td>0</td>\n",
       "    </tr>\n",
       "    <tr>\n",
       "      <th>174863</th>\n",
       "      <td>Added assets access rights and added other req...</td>\n",
       "      <td>0</td>\n",
       "    </tr>\n",
       "    <tr>\n",
       "      <th>172510</th>\n",
       "      <td>Create payment and payment if done by Bank the...</td>\n",
       "      <td>0</td>\n",
       "    </tr>\n",
       "    <tr>\n",
       "      <th>172511</th>\n",
       "      <td>After verification for reconcilation implement...</td>\n",
       "      <td>0</td>\n",
       "    </tr>\n",
       "    <tr>\n",
       "      <th>172731</th>\n",
       "      <td>Analysis for petty cash &amp; expense how to manag...</td>\n",
       "      <td>0</td>\n",
       "    </tr>\n",
       "    <tr>\n",
       "      <th>175289</th>\n",
       "      <td>Check with holiday module and removed that no ...</td>\n",
       "      <td>0</td>\n",
       "    </tr>\n",
       "    <tr>\n",
       "      <th>168020</th>\n",
       "      <td>CRM golive fix in Odoo log and sprint with Pre...</td>\n",
       "      <td>0</td>\n",
       "    </tr>\n",
       "    <tr>\n",
       "      <th>175634</th>\n",
       "      <td>Improved code for access rights and issue and ...</td>\n",
       "      <td>0</td>\n",
       "    </tr>\n",
       "    <tr>\n",
       "      <th>...</th>\n",
       "      <td>...</td>\n",
       "      <td>...</td>\n",
       "    </tr>\n",
       "    <tr>\n",
       "      <th>136479</th>\n",
       "      <td>Return Process and Web changes for Return proc...</td>\n",
       "      <td>213522</td>\n",
       "    </tr>\n",
       "    <tr>\n",
       "      <th>136331</th>\n",
       "      <td>Return Process and Web changes for Return proc...</td>\n",
       "      <td>213522</td>\n",
       "    </tr>\n",
       "    <tr>\n",
       "      <th>136723</th>\n",
       "      <td>Return Process and Web changes for Return proc...</td>\n",
       "      <td>213522</td>\n",
       "    </tr>\n",
       "    <tr>\n",
       "      <th>136222</th>\n",
       "      <td>Return Process and Web changes for Return proc...</td>\n",
       "      <td>213522</td>\n",
       "    </tr>\n",
       "    <tr>\n",
       "      <th>136388</th>\n",
       "      <td>Return Process and Web changes for Return proc...</td>\n",
       "      <td>213522</td>\n",
       "    </tr>\n",
       "    <tr>\n",
       "      <th>138865</th>\n",
       "      <td>Solutions for optimize survey and co-ordinatin...</td>\n",
       "      <td>213526</td>\n",
       "    </tr>\n",
       "    <tr>\n",
       "      <th>136243</th>\n",
       "      <td>Solutions for optimize survey and co-ordinatin...</td>\n",
       "      <td>213526</td>\n",
       "    </tr>\n",
       "    <tr>\n",
       "      <th>139296</th>\n",
       "      <td>Solutions for optimize survey and co-ordinatin...</td>\n",
       "      <td>213526</td>\n",
       "    </tr>\n",
       "    <tr>\n",
       "      <th>136465</th>\n",
       "      <td>Solutions for optimize survey and co-ordinatin...</td>\n",
       "      <td>213526</td>\n",
       "    </tr>\n",
       "    <tr>\n",
       "      <th>136860</th>\n",
       "      <td>R&amp;D for USSD Payment and Push Notification Fun...</td>\n",
       "      <td>213538</td>\n",
       "    </tr>\n",
       "    <tr>\n",
       "      <th>136136</th>\n",
       "      <td>R&amp;D for USSD Payment and Push Notification Fun...</td>\n",
       "      <td>213538</td>\n",
       "    </tr>\n",
       "    <tr>\n",
       "      <th>136759</th>\n",
       "      <td>R&amp;D for USSD Payment and Push Notification Fun...</td>\n",
       "      <td>213538</td>\n",
       "    </tr>\n",
       "    <tr>\n",
       "      <th>136352</th>\n",
       "      <td>R&amp;D for USSD Payment and Push Notification Fun...</td>\n",
       "      <td>213538</td>\n",
       "    </tr>\n",
       "    <tr>\n",
       "      <th>136244</th>\n",
       "      <td>R&amp;D for USSD Payment and Push Notification Fun...</td>\n",
       "      <td>213538</td>\n",
       "    </tr>\n",
       "    <tr>\n",
       "      <th>137078</th>\n",
       "      <td>R&amp;D for USSD Payment and Push Notification Fun...</td>\n",
       "      <td>213538</td>\n",
       "    </tr>\n",
       "    <tr>\n",
       "      <th>136669</th>\n",
       "      <td>R&amp;D for USSD Payment and Push Notification Fun...</td>\n",
       "      <td>213538</td>\n",
       "    </tr>\n",
       "    <tr>\n",
       "      <th>137172</th>\n",
       "      <td>R&amp;D for USSD Payment and Push Notification Fun...</td>\n",
       "      <td>213538</td>\n",
       "    </tr>\n",
       "    <tr>\n",
       "      <th>136569</th>\n",
       "      <td>R&amp;D for USSD Payment and Push Notification Fun...</td>\n",
       "      <td>213538</td>\n",
       "    </tr>\n",
       "    <tr>\n",
       "      <th>136977</th>\n",
       "      <td>R&amp;D for USSD Payment and Push Notification Fun...</td>\n",
       "      <td>213538</td>\n",
       "    </tr>\n",
       "    <tr>\n",
       "      <th>136466</th>\n",
       "      <td>R&amp;D for USSD Payment and Push Notification Fun...</td>\n",
       "      <td>213538</td>\n",
       "    </tr>\n",
       "    <tr>\n",
       "      <th>137077</th>\n",
       "      <td>Weekly meeting reports and solution for accoun...</td>\n",
       "      <td>213556</td>\n",
       "    </tr>\n",
       "    <tr>\n",
       "      <th>137081</th>\n",
       "      <td>Weekly meeting reports and solution for accoun...</td>\n",
       "      <td>213556</td>\n",
       "    </tr>\n",
       "    <tr>\n",
       "      <th>136976</th>\n",
       "      <td>Weekly meeting reports and solution for accoun...</td>\n",
       "      <td>213556</td>\n",
       "    </tr>\n",
       "    <tr>\n",
       "      <th>136248</th>\n",
       "      <td>reliance partners UAT setup&lt;p&gt;&lt;br&gt;&lt;/p&gt;reliance...</td>\n",
       "      <td>213714</td>\n",
       "    </tr>\n",
       "    <tr>\n",
       "      <th>136360</th>\n",
       "      <td>reliance partners UAT setup&lt;p&gt;&lt;br&gt;&lt;/p&gt;Reliance...</td>\n",
       "      <td>213714</td>\n",
       "    </tr>\n",
       "    <tr>\n",
       "      <th>136039</th>\n",
       "      <td>reliance partners UAT setup&lt;p&gt;&lt;br&gt;&lt;/p&gt;reliance...</td>\n",
       "      <td>213714</td>\n",
       "    </tr>\n",
       "    <tr>\n",
       "      <th>137082</th>\n",
       "      <td>reliance partners UAT setup&lt;p&gt;&lt;br&gt;&lt;/p&gt;Reliance...</td>\n",
       "      <td>213714</td>\n",
       "    </tr>\n",
       "    <tr>\n",
       "      <th>136473</th>\n",
       "      <td>reliance partners UAT setup&lt;p&gt;&lt;br&gt;&lt;/p&gt;Reliance...</td>\n",
       "      <td>213714</td>\n",
       "    </tr>\n",
       "    <tr>\n",
       "      <th>136984</th>\n",
       "      <td>reliance partners UAT setup&lt;p&gt;&lt;br&gt;&lt;/p&gt;Reliance...</td>\n",
       "      <td>213714</td>\n",
       "    </tr>\n",
       "    <tr>\n",
       "      <th>136583</th>\n",
       "      <td>reliance partners UAT setup&lt;p&gt;&lt;br&gt;&lt;/p&gt;reliance...</td>\n",
       "      <td>213714</td>\n",
       "    </tr>\n",
       "  </tbody>\n",
       "</table>\n",
       "<p>198898 rows × 2 columns</p>\n",
       "</div>"
      ],
      "text/plain": [
       "                                                  Feature  Task/ID\n",
       "173142                 Prepare cost centers for abu dhabi        0\n",
       "175909  Created module and shared with alpesh for fnf ...        0\n",
       "176282  Improved code for gratuity and access right is...        0\n",
       "176056  Created screen for configuration and added rec...        0\n",
       "171846                Working on Multiple invoice payment        0\n",
       "172449  Improved code for return petty cash funtionali...        0\n",
       "178825  Create module for allow to create comp-off req...        0\n",
       "177632       Improved code and attend meeting of empower.        0\n",
       "172955  OS F&F for employee in manage petty cash flow....        0\n",
       "158518         Completed the solution design for purchase        0\n",
       "172274  Improvement F&F process for chatter details re...        0\n",
       "172273  Partner create or write in bista_hr from gratu...        0\n",
       "152847              Completed solution design for Reports        0\n",
       "172438  Improved code for return petty cash funtionali...        0\n",
       "154035      Completed the design solution for accounting.        0\n",
       "172797  OS F&F for employee in manage petty cash flow....        0\n",
       "168021  Sales Order annual total on report and calcula...        0\n",
       "172631  After verification for reconcilation implement...        0\n",
       "172003  F&F functionality in calculate panelties, Asse...        0\n",
       "176672  Discussed with manager for create partner or u...        0\n",
       "175635  Travel module in add needed data and check wit...        0\n",
       "172630  Analysis for petty cash & expense how to manag...        0\n",
       "172450  Improved code for expense details use in other...        0\n",
       "174863  Added assets access rights and added other req...        0\n",
       "172510  Create payment and payment if done by Bank the...        0\n",
       "172511  After verification for reconcilation implement...        0\n",
       "172731  Analysis for petty cash & expense how to manag...        0\n",
       "175289  Check with holiday module and removed that no ...        0\n",
       "168020  CRM golive fix in Odoo log and sprint with Pre...        0\n",
       "175634  Improved code for access rights and issue and ...        0\n",
       "...                                                   ...      ...\n",
       "136479  Return Process and Web changes for Return proc...   213522\n",
       "136331  Return Process and Web changes for Return proc...   213522\n",
       "136723  Return Process and Web changes for Return proc...   213522\n",
       "136222  Return Process and Web changes for Return proc...   213522\n",
       "136388  Return Process and Web changes for Return proc...   213522\n",
       "138865  Solutions for optimize survey and co-ordinatin...   213526\n",
       "136243  Solutions for optimize survey and co-ordinatin...   213526\n",
       "139296  Solutions for optimize survey and co-ordinatin...   213526\n",
       "136465  Solutions for optimize survey and co-ordinatin...   213526\n",
       "136860  R&D for USSD Payment and Push Notification Fun...   213538\n",
       "136136  R&D for USSD Payment and Push Notification Fun...   213538\n",
       "136759  R&D for USSD Payment and Push Notification Fun...   213538\n",
       "136352  R&D for USSD Payment and Push Notification Fun...   213538\n",
       "136244  R&D for USSD Payment and Push Notification Fun...   213538\n",
       "137078  R&D for USSD Payment and Push Notification Fun...   213538\n",
       "136669  R&D for USSD Payment and Push Notification Fun...   213538\n",
       "137172  R&D for USSD Payment and Push Notification Fun...   213538\n",
       "136569  R&D for USSD Payment and Push Notification Fun...   213538\n",
       "136977  R&D for USSD Payment and Push Notification Fun...   213538\n",
       "136466  R&D for USSD Payment and Push Notification Fun...   213538\n",
       "137077  Weekly meeting reports and solution for accoun...   213556\n",
       "137081  Weekly meeting reports and solution for accoun...   213556\n",
       "136976  Weekly meeting reports and solution for accoun...   213556\n",
       "136248  reliance partners UAT setup<p><br></p>reliance...   213714\n",
       "136360  reliance partners UAT setup<p><br></p>Reliance...   213714\n",
       "136039  reliance partners UAT setup<p><br></p>reliance...   213714\n",
       "137082  reliance partners UAT setup<p><br></p>Reliance...   213714\n",
       "136473  reliance partners UAT setup<p><br></p>Reliance...   213714\n",
       "136984  reliance partners UAT setup<p><br></p>Reliance...   213714\n",
       "136583  reliance partners UAT setup<p><br></p>reliance...   213714\n",
       "\n",
       "[198898 rows x 2 columns]"
      ]
     },
     "execution_count": 9,
     "metadata": {},
     "output_type": "execute_result"
    }
   ],
   "source": [
    "df_timesheet[[\"Feature\",\"Task/ID\"]].sort_values(\"Task/ID\")"
   ]
  },
  {
   "cell_type": "code",
   "execution_count": 10,
   "metadata": {},
   "outputs": [
    {
     "data": {
      "text/plain": [
       "['Project/Display Name',\n",
       " 'Task/ID',\n",
       " 'Task/Start Date',\n",
       " 'Task/Display Name',\n",
       " 'Task/Task Type',\n",
       " 'Task/Description',\n",
       " 'Task/Initially Planned Hours',\n",
       " 'Date',\n",
       " 'User/Name',\n",
       " 'Task/Total Hours',\n",
       " 'Is Billable',\n",
       " 'Description',\n",
       " 'Quantity',\n",
       " 'Feature']"
      ]
     },
     "execution_count": 10,
     "metadata": {},
     "output_type": "execute_result"
    }
   ],
   "source": [
    "column_names = list(df_timesheet.columns)\n",
    "column_names"
   ]
  },
  {
   "cell_type": "code",
   "execution_count": 11,
   "metadata": {},
   "outputs": [
    {
     "data": {
      "text/plain": [
       "(26917,)"
      ]
     },
     "execution_count": 11,
     "metadata": {},
     "output_type": "execute_result"
    }
   ],
   "source": [
    "df_timesheet[\"Task/ID\"].unique().shape"
   ]
  },
  {
   "cell_type": "code",
   "execution_count": 12,
   "metadata": {},
   "outputs": [
    {
     "data": {
      "text/html": [
       "<div>\n",
       "<style scoped>\n",
       "    .dataframe tbody tr th:only-of-type {\n",
       "        vertical-align: middle;\n",
       "    }\n",
       "\n",
       "    .dataframe tbody tr th {\n",
       "        vertical-align: top;\n",
       "    }\n",
       "\n",
       "    .dataframe thead th {\n",
       "        text-align: right;\n",
       "    }\n",
       "</style>\n",
       "<table border=\"1\" class=\"dataframe\">\n",
       "  <thead>\n",
       "    <tr style=\"text-align: right;\">\n",
       "      <th></th>\n",
       "      <th>Project/Display Name</th>\n",
       "      <th>Task/ID</th>\n",
       "      <th>Task/Start Date</th>\n",
       "      <th>Task/Display Name</th>\n",
       "      <th>Task/Task Type</th>\n",
       "      <th>Task/Description</th>\n",
       "      <th>Task/Initially Planned Hours</th>\n",
       "      <th>Date</th>\n",
       "      <th>User/Name</th>\n",
       "      <th>Task/Total Hours</th>\n",
       "      <th>Is Billable</th>\n",
       "      <th>Description</th>\n",
       "      <th>Quantity</th>\n",
       "      <th>Feature</th>\n",
       "    </tr>\n",
       "  </thead>\n",
       "  <tbody>\n",
       "    <tr>\n",
       "      <th>0</th>\n",
       "      <td>Commonwealth labs LLC</td>\n",
       "      <td>170347</td>\n",
       "      <td>NaT</td>\n",
       "      <td>Warehouse</td>\n",
       "      <td>False</td>\n",
       "      <td>NaN</td>\n",
       "      <td>NaN</td>\n",
       "      <td>2016-01-15</td>\n",
       "      <td>False</td>\n",
       "      <td>NaN</td>\n",
       "      <td>Billable</td>\n",
       "      <td>NPI integration Analysis</td>\n",
       "      <td>1.0</td>\n",
       "      <td>WarehouseNPI integration Analysis</td>\n",
       "    </tr>\n",
       "    <tr>\n",
       "      <th>1</th>\n",
       "      <td>Khazana</td>\n",
       "      <td>169776</td>\n",
       "      <td>NaT</td>\n",
       "      <td>CRM workflow and shopping cart changes</td>\n",
       "      <td>False</td>\n",
       "      <td>NaN</td>\n",
       "      <td>60.0</td>\n",
       "      <td>2016-01-15</td>\n",
       "      <td>False</td>\n",
       "      <td>NaN</td>\n",
       "      <td>Billable</td>\n",
       "      <td>Design to send the information from the cart t...</td>\n",
       "      <td>2.0</td>\n",
       "      <td>CRM workflow and shopping cart changesDesign t...</td>\n",
       "    </tr>\n",
       "    <tr>\n",
       "      <th>2</th>\n",
       "      <td>Netsuite Internal Process</td>\n",
       "      <td>169280</td>\n",
       "      <td>2018-01-31</td>\n",
       "      <td>R&amp;D on NetSuite</td>\n",
       "      <td>R&amp;D</td>\n",
       "      <td>NaN</td>\n",
       "      <td>10.0</td>\n",
       "      <td>2016-01-15</td>\n",
       "      <td>Prashant Gupta</td>\n",
       "      <td>NaN</td>\n",
       "      <td>Billable</td>\n",
       "      <td>Worked on Payroll</td>\n",
       "      <td>8.0</td>\n",
       "      <td>R&amp;D on NetSuiteWorked on Payroll</td>\n",
       "    </tr>\n",
       "    <tr>\n",
       "      <th>3</th>\n",
       "      <td>Advomas</td>\n",
       "      <td>196762</td>\n",
       "      <td>NaT</td>\n",
       "      <td>Missing Task</td>\n",
       "      <td>False</td>\n",
       "      <td>NaN</td>\n",
       "      <td>NaN</td>\n",
       "      <td>2016-01-15</td>\n",
       "      <td>False</td>\n",
       "      <td>NaN</td>\n",
       "      <td>Billable</td>\n",
       "      <td>Working upon Added Changes in Billing View</td>\n",
       "      <td>9.0</td>\n",
       "      <td>Missing TaskWorking upon Added Changes in Bill...</td>\n",
       "    </tr>\n",
       "    <tr>\n",
       "      <th>4</th>\n",
       "      <td>ZAMIL-HRMS Support</td>\n",
       "      <td>182208</td>\n",
       "      <td>NaT</td>\n",
       "      <td>Missing Tasks</td>\n",
       "      <td>False</td>\n",
       "      <td>NaN</td>\n",
       "      <td>NaN</td>\n",
       "      <td>2016-01-15</td>\n",
       "      <td>Tabassum Mujawar</td>\n",
       "      <td>NaN</td>\n",
       "      <td>Billable</td>\n",
       "      <td>kt session for integration and payslip sign issue</td>\n",
       "      <td>8.0</td>\n",
       "      <td>Missing Taskskt session for integration and pa...</td>\n",
       "    </tr>\n",
       "  </tbody>\n",
       "</table>\n",
       "</div>"
      ],
      "text/plain": [
       "        Project/Display Name  Task/ID Task/Start Date  \\\n",
       "0      Commonwealth labs LLC   170347             NaT   \n",
       "1                    Khazana   169776             NaT   \n",
       "2  Netsuite Internal Process   169280      2018-01-31   \n",
       "3                    Advomas   196762             NaT   \n",
       "4         ZAMIL-HRMS Support   182208             NaT   \n",
       "\n",
       "                        Task/Display Name Task/Task Type Task/Description  \\\n",
       "0                               Warehouse          False              NaN   \n",
       "1  CRM workflow and shopping cart changes          False              NaN   \n",
       "2                         R&D on NetSuite            R&D              NaN   \n",
       "3                            Missing Task          False              NaN   \n",
       "4                           Missing Tasks          False              NaN   \n",
       "\n",
       "   Task/Initially Planned Hours       Date         User/Name  \\\n",
       "0                           NaN 2016-01-15             False   \n",
       "1                          60.0 2016-01-15             False   \n",
       "2                          10.0 2016-01-15    Prashant Gupta   \n",
       "3                           NaN 2016-01-15             False   \n",
       "4                           NaN 2016-01-15  Tabassum Mujawar   \n",
       "\n",
       "   Task/Total Hours Is Billable  \\\n",
       "0               NaN    Billable   \n",
       "1               NaN    Billable   \n",
       "2               NaN    Billable   \n",
       "3               NaN    Billable   \n",
       "4               NaN    Billable   \n",
       "\n",
       "                                         Description  Quantity  \\\n",
       "0                           NPI integration Analysis       1.0   \n",
       "1  Design to send the information from the cart t...       2.0   \n",
       "2                                  Worked on Payroll       8.0   \n",
       "3         Working upon Added Changes in Billing View       9.0   \n",
       "4  kt session for integration and payslip sign issue       8.0   \n",
       "\n",
       "                                             Feature  \n",
       "0                  WarehouseNPI integration Analysis  \n",
       "1  CRM workflow and shopping cart changesDesign t...  \n",
       "2                   R&D on NetSuiteWorked on Payroll  \n",
       "3  Missing TaskWorking upon Added Changes in Bill...  \n",
       "4  Missing Taskskt session for integration and pa...  "
      ]
     },
     "execution_count": 12,
     "metadata": {},
     "output_type": "execute_result"
    }
   ],
   "source": [
    "df_timesheet.head()"
   ]
  },
  {
   "cell_type": "code",
   "execution_count": 8,
   "metadata": {},
   "outputs": [],
   "source": [
    "df_timesheet[\"Task/Description\"]=df_timesheet[\"Task/Description\"].fillna(\"\").astype(str)"
   ]
  },
  {
   "cell_type": "code",
   "execution_count": 26,
   "metadata": {},
   "outputs": [
    {
     "data": {
      "text/plain": [
       "(198898,)"
      ]
     },
     "execution_count": 26,
     "metadata": {},
     "output_type": "execute_result"
    }
   ],
   "source": [
    "df_timesheet[\"Description\"]=df_timesheet[\"Description\"].str.lower()\n",
    "df_timesheet[\"Description\"].shape"
   ]
  },
  {
   "cell_type": "code",
   "execution_count": 31,
   "metadata": {},
   "outputs": [],
   "source": [
    "grp_project_display_name_task_ID_feat_concat = pd.DataFrame(df_timesheet.groupby([\"Description\"])['Feature'].apply('[stop]'.join).reset_index())\n",
    "grp_project_display_name_task_ID_quantity_sum = pd.DataFrame(df_timesheet.groupby([\"Description\"])['Quantity'].sum().reset_index())"
   ]
  },
  {
   "cell_type": "code",
   "execution_count": 33,
   "metadata": {},
   "outputs": [],
   "source": [
    "res = pd.merge(grp_project_display_name_task_ID_feat_concat, grp_project_display_name_task_ID_quantity_sum, on = 'Description')"
   ]
  },
  {
   "cell_type": "code",
   "execution_count": 30,
   "metadata": {},
   "outputs": [],
   "source": [
    "res.to_csv(\"res.csv\",index=False)"
   ]
  },
  {
   "cell_type": "code",
   "execution_count": 38,
   "metadata": {},
   "outputs": [
    {
     "data": {
      "text/plain": [
       "(154315,)"
      ]
     },
     "execution_count": 38,
     "metadata": {},
     "output_type": "execute_result"
    }
   ],
   "source": [
    "res.Feature.shape"
   ]
  },
  {
   "cell_type": "code",
   "execution_count": 40,
   "metadata": {},
   "outputs": [
    {
     "data": {
      "text/plain": [
       "(154315,)"
      ]
     },
     "execution_count": 40,
     "metadata": {},
     "output_type": "execute_result"
    }
   ],
   "source": [
    "res.Feature.unique().shape"
   ]
  },
  {
   "cell_type": "code",
   "execution_count": 41,
   "metadata": {},
   "outputs": [
    {
     "name": "stdout",
     "output_type": "stream",
     "text": [
      "(154315,)\n",
      "15431\n"
     ]
    }
   ],
   "source": [
    "data=res.Quantity.values\n",
    "sort_data=np.array(np.sort(data))\n",
    "print(sort_data.shape)\n",
    "idx=0\n",
    "offset=sort_data.shape[0]//10\n",
    "print(offset)\n",
    "binned=[]\n",
    "for i in range(10):\n",
    "    binned.append(sort_data[idx:idx+offset])\n",
    "    idx+=offset\n",
    "binned=np.array(binned)"
   ]
  },
  {
   "cell_type": "code",
   "execution_count": null,
   "metadata": {},
   "outputs": [],
   "source": [
    "sort_data[-200:]"
   ]
  },
  {
   "cell_type": "code",
   "execution_count": 51,
   "metadata": {},
   "outputs": [
    {
     "name": "stdout",
     "output_type": "stream",
     "text": [
      "0.0-1.0\n",
      "1.0-1.0\n",
      "1.0-2.0\n",
      "2.0-3.0\n",
      "3.0-4.0\n",
      "4.0-5.0\n",
      "5.0-7.0\n",
      "7.0-8.0\n",
      "8.0-8.0\n",
      "8.0-1480.0\n"
     ]
    }
   ],
   "source": [
    "import math\n",
    "catgories=[]\n",
    "for i,bin in enumerate(binned):\n",
    "    \n",
    "    if(i==9):\n",
    "        print(str(bin[0])+\"-\"+str(float(math.floor(bin[-1]))))\n",
    "        catgories.append(str(float(math.floor(bin[0])))+\"-\"+str(100.0))\n",
    "    else:\n",
    "        print(str(float(math.floor(bin[0])))+\"-\"+str(float(math.floor(bin[-1]))))\n",
    "        \n",
    "        catgories.append(str(float(math.floor(bin[0])))+\"-\"+str(float(math.floor(bin[-1]))))\n",
    "    "
   ]
  },
  {
   "cell_type": "code",
   "execution_count": 52,
   "metadata": {},
   "outputs": [
    {
     "data": {
      "text/plain": [
       "['0.0-1.0',\n",
       " '1.0-2.0',\n",
       " '2.0-3.0',\n",
       " '3.0-4.0',\n",
       " '4.0-5.0',\n",
       " '5.0-7.0',\n",
       " '7.0-8.0',\n",
       " '8.0-100.0']"
      ]
     },
     "execution_count": 52,
     "metadata": {},
     "output_type": "execute_result"
    }
   ],
   "source": [
    "catgories.remove('1.0-1.0')\n",
    "catgories.remove('8.0-8.0')\n",
    "catgories"
   ]
  },
  {
   "cell_type": "code",
   "execution_count": 53,
   "metadata": {},
   "outputs": [],
   "source": [
    "labels=[]\n",
    "encoded_labels=[]\n",
    "for dat in data:\n",
    "    for label in catgories:\n",
    "        if (dat>=float(label.split(\"-\")[0]) and dat<=float(label.split(\"-\")[-1])):\n",
    "            labels.append(label)\n",
    "            encoded_labels.append(\"Task\"+str(catgories.index(label)+1))\n",
    "            break\n",
    "        if(dat>=100):\n",
    "            labels.append(\">100\")\n",
    "            encoded_labels.append(\"Task9\")\n",
    "            break\n",
    "            "
   ]
  },
  {
   "cell_type": "code",
   "execution_count": 54,
   "metadata": {},
   "outputs": [
    {
     "data": {
      "text/plain": [
       "154315"
      ]
     },
     "execution_count": 54,
     "metadata": {},
     "output_type": "execute_result"
    }
   ],
   "source": [
    "len(encoded_labels)"
   ]
  },
  {
   "cell_type": "code",
   "execution_count": 59,
   "metadata": {},
   "outputs": [],
   "source": [
    "res[\"Label\"]=labels\n",
    "res[\"Encoded Label\"]=encoded_labels"
   ]
  },
  {
   "cell_type": "code",
   "execution_count": 61,
   "metadata": {},
   "outputs": [],
   "source": [
    "del res[\"Description\"]"
   ]
  },
  {
   "cell_type": "code",
   "execution_count": 62,
   "metadata": {},
   "outputs": [
    {
     "data": {
      "text/html": [
       "<div>\n",
       "<style scoped>\n",
       "    .dataframe tbody tr th:only-of-type {\n",
       "        vertical-align: middle;\n",
       "    }\n",
       "\n",
       "    .dataframe tbody tr th {\n",
       "        vertical-align: top;\n",
       "    }\n",
       "\n",
       "    .dataframe thead th {\n",
       "        text-align: right;\n",
       "    }\n",
       "</style>\n",
       "<table border=\"1\" class=\"dataframe\">\n",
       "  <thead>\n",
       "    <tr style=\"text-align: right;\">\n",
       "      <th></th>\n",
       "      <th>Feature</th>\n",
       "      <th>Quantity</th>\n",
       "      <th>Label</th>\n",
       "      <th>Encoded Label</th>\n",
       "    </tr>\n",
       "  </thead>\n",
       "  <tbody>\n",
       "    <tr>\n",
       "      <th>0</th>\n",
       "      <td>Great AnnualSavings: Energy System module migr...</td>\n",
       "      <td>8.000000</td>\n",
       "      <td>7.0-8.0</td>\n",
       "      <td>Task7</td>\n",
       "    </tr>\n",
       "    <tr>\n",
       "      <th>1</th>\n",
       "      <td>Great AnnualSavings: Energy System module migr...</td>\n",
       "      <td>3.000000</td>\n",
       "      <td>2.0-3.0</td>\n",
       "      <td>Task3</td>\n",
       "    </tr>\n",
       "    <tr>\n",
       "      <th>2</th>\n",
       "      <td>Contract Rostering Module development</td>\n",
       "      <td>0.116944</td>\n",
       "      <td>0.0-1.0</td>\n",
       "      <td>Task1</td>\n",
       "    </tr>\n",
       "    <tr>\n",
       "      <th>3</th>\n",
       "      <td>Open SO's , Open Opportunities, Open Meetings ...</td>\n",
       "      <td>4.000000</td>\n",
       "      <td>3.0-4.0</td>\n",
       "      <td>Task4</td>\n",
       "    </tr>\n",
       "    <tr>\n",
       "      <th>4</th>\n",
       "      <td>The should be a menu which should allow the us...</td>\n",
       "      <td>5.000000</td>\n",
       "      <td>4.0-5.0</td>\n",
       "      <td>Task5</td>\n",
       "    </tr>\n",
       "  </tbody>\n",
       "</table>\n",
       "</div>"
      ],
      "text/plain": [
       "                                             Feature  Quantity    Label  \\\n",
       "0  Great AnnualSavings: Energy System module migr...  8.000000  7.0-8.0   \n",
       "1  Great AnnualSavings: Energy System module migr...  3.000000  2.0-3.0   \n",
       "2             Contract Rostering Module development   0.116944  0.0-1.0   \n",
       "3  Open SO's , Open Opportunities, Open Meetings ...  4.000000  3.0-4.0   \n",
       "4  The should be a menu which should allow the us...  5.000000  4.0-5.0   \n",
       "\n",
       "  Encoded Label  \n",
       "0         Task7  \n",
       "1         Task3  \n",
       "2         Task1  \n",
       "3         Task4  \n",
       "4         Task5  "
      ]
     },
     "execution_count": 62,
     "metadata": {},
     "output_type": "execute_result"
    }
   ],
   "source": [
    "res.head()"
   ]
  },
  {
   "cell_type": "code",
   "execution_count": 64,
   "metadata": {},
   "outputs": [],
   "source": [
    "res2=res.copy()"
   ]
  },
  {
   "cell_type": "code",
   "execution_count": null,
   "metadata": {},
   "outputs": [],
   "source": [
    "res2.insert(0,\"Feature\",res2[\"Task/Display Name\"].fillna(\"\").str.cat(res2[\"Task/Description\"].fillna(\"\")))\n",
    "del res2[\"Task/Display Name\"]\n",
    "del res2[\"Task/Description\"]"
   ]
  },
  {
   "cell_type": "code",
   "execution_count": 63,
   "metadata": {},
   "outputs": [
    {
     "data": {
      "text/plain": [
       "(154315,)"
      ]
     },
     "execution_count": 63,
     "metadata": {},
     "output_type": "execute_result"
    }
   ],
   "source": [
    "res2.Feature.unique().shape"
   ]
  },
  {
   "cell_type": "code",
   "execution_count": 21,
   "metadata": {},
   "outputs": [
    {
     "name": "stdout",
     "output_type": "stream",
     "text": [
      "<class 'pandas.core.frame.DataFrame'>\n",
      "Int64Index: 26917 entries, 0 to 26916\n",
      "Data columns (total 3 columns):\n",
      "Task/ID     26917 non-null int64\n",
      "Feature     26917 non-null object\n",
      "Quantity    26917 non-null float64\n",
      "dtypes: float64(1), int64(1), object(1)\n",
      "memory usage: 841.2+ KB\n"
     ]
    }
   ],
   "source": [
    "res2.info()"
   ]
  },
  {
   "cell_type": "code",
   "execution_count": 24,
   "metadata": {},
   "outputs": [],
   "source": [
    "res2[\"Label\"]=labels\n",
    "res2[\"Encoded_Label\"]=encoded_labels"
   ]
  },
  {
   "cell_type": "code",
   "execution_count": 65,
   "metadata": {},
   "outputs": [
    {
     "data": {
      "text/html": [
       "<div>\n",
       "<style scoped>\n",
       "    .dataframe tbody tr th:only-of-type {\n",
       "        vertical-align: middle;\n",
       "    }\n",
       "\n",
       "    .dataframe tbody tr th {\n",
       "        vertical-align: top;\n",
       "    }\n",
       "\n",
       "    .dataframe thead th {\n",
       "        text-align: right;\n",
       "    }\n",
       "</style>\n",
       "<table border=\"1\" class=\"dataframe\">\n",
       "  <thead>\n",
       "    <tr style=\"text-align: right;\">\n",
       "      <th></th>\n",
       "      <th>Feature</th>\n",
       "      <th>Quantity</th>\n",
       "      <th>Label</th>\n",
       "      <th>Encoded Label</th>\n",
       "    </tr>\n",
       "  </thead>\n",
       "  <tbody>\n",
       "    <tr>\n",
       "      <th>0</th>\n",
       "      <td>Great AnnualSavings: Energy System module migr...</td>\n",
       "      <td>8.000000</td>\n",
       "      <td>7.0-8.0</td>\n",
       "      <td>Task7</td>\n",
       "    </tr>\n",
       "    <tr>\n",
       "      <th>1</th>\n",
       "      <td>Great AnnualSavings: Energy System module migr...</td>\n",
       "      <td>3.000000</td>\n",
       "      <td>2.0-3.0</td>\n",
       "      <td>Task3</td>\n",
       "    </tr>\n",
       "    <tr>\n",
       "      <th>2</th>\n",
       "      <td>Contract Rostering Module development</td>\n",
       "      <td>0.116944</td>\n",
       "      <td>0.0-1.0</td>\n",
       "      <td>Task1</td>\n",
       "    </tr>\n",
       "    <tr>\n",
       "      <th>3</th>\n",
       "      <td>Open SO's , Open Opportunities, Open Meetings ...</td>\n",
       "      <td>4.000000</td>\n",
       "      <td>3.0-4.0</td>\n",
       "      <td>Task4</td>\n",
       "    </tr>\n",
       "    <tr>\n",
       "      <th>4</th>\n",
       "      <td>The should be a menu which should allow the us...</td>\n",
       "      <td>5.000000</td>\n",
       "      <td>4.0-5.0</td>\n",
       "      <td>Task5</td>\n",
       "    </tr>\n",
       "  </tbody>\n",
       "</table>\n",
       "</div>"
      ],
      "text/plain": [
       "                                             Feature  Quantity    Label  \\\n",
       "0  Great AnnualSavings: Energy System module migr...  8.000000  7.0-8.0   \n",
       "1  Great AnnualSavings: Energy System module migr...  3.000000  2.0-3.0   \n",
       "2             Contract Rostering Module development   0.116944  0.0-1.0   \n",
       "3  Open SO's , Open Opportunities, Open Meetings ...  4.000000  3.0-4.0   \n",
       "4  The should be a menu which should allow the us...  5.000000  4.0-5.0   \n",
       "\n",
       "  Encoded Label  \n",
       "0         Task7  \n",
       "1         Task3  \n",
       "2         Task1  \n",
       "3         Task4  \n",
       "4         Task5  "
      ]
     },
     "execution_count": 65,
     "metadata": {},
     "output_type": "execute_result"
    }
   ],
   "source": [
    "res2.head()"
   ]
  },
  {
   "cell_type": "code",
   "execution_count": 68,
   "metadata": {},
   "outputs": [],
   "source": [
    "res3=res2.copy()"
   ]
  },
  {
   "cell_type": "code",
   "execution_count": 69,
   "metadata": {},
   "outputs": [],
   "source": [
    "res3=res3.drop_duplicates(subset=\"Feature\")"
   ]
  },
  {
   "cell_type": "code",
   "execution_count": 70,
   "metadata": {},
   "outputs": [
    {
     "name": "stdout",
     "output_type": "stream",
     "text": [
      "<class 'pandas.core.frame.DataFrame'>\n",
      "Int64Index: 154315 entries, 0 to 154314\n",
      "Data columns (total 4 columns):\n",
      "Feature          154315 non-null object\n",
      "Quantity         154315 non-null float64\n",
      "Label            154315 non-null object\n",
      "Encoded Label    154315 non-null object\n",
      "dtypes: float64(1), object(3)\n",
      "memory usage: 5.9+ MB\n"
     ]
    }
   ],
   "source": [
    "res3.info()"
   ]
  },
  {
   "cell_type": "code",
   "execution_count": 72,
   "metadata": {},
   "outputs": [],
   "source": [
    "vals=res3.Feature.values\n",
    "set_vals=[]\n",
    "for val in vals:\n",
    "    print(val.split(\"[stop]\"))\n",
    "    "
   ]
  },
  {
   "cell_type": "code",
   "execution_count": 73,
   "metadata": {},
   "outputs": [
    {
     "data": {
      "text/html": [
       "<div>\n",
       "<style scoped>\n",
       "    .dataframe tbody tr th:only-of-type {\n",
       "        vertical-align: middle;\n",
       "    }\n",
       "\n",
       "    .dataframe tbody tr th {\n",
       "        vertical-align: top;\n",
       "    }\n",
       "\n",
       "    .dataframe thead th {\n",
       "        text-align: right;\n",
       "    }\n",
       "</style>\n",
       "<table border=\"1\" class=\"dataframe\">\n",
       "  <thead>\n",
       "    <tr style=\"text-align: right;\">\n",
       "      <th></th>\n",
       "      <th>Feature</th>\n",
       "      <th>Quantity</th>\n",
       "      <th>Label</th>\n",
       "      <th>Encoded Label</th>\n",
       "    </tr>\n",
       "  </thead>\n",
       "  <tbody>\n",
       "    <tr>\n",
       "      <th>0</th>\n",
       "      <td>Great AnnualSavings: Energy System module migr...</td>\n",
       "      <td>8.000000</td>\n",
       "      <td>7.0-8.0</td>\n",
       "      <td>Task7</td>\n",
       "    </tr>\n",
       "    <tr>\n",
       "      <th>1</th>\n",
       "      <td>Great AnnualSavings: Energy System module migr...</td>\n",
       "      <td>3.000000</td>\n",
       "      <td>2.0-3.0</td>\n",
       "      <td>Task3</td>\n",
       "    </tr>\n",
       "    <tr>\n",
       "      <th>2</th>\n",
       "      <td>Contract Rostering Module development</td>\n",
       "      <td>0.116944</td>\n",
       "      <td>0.0-1.0</td>\n",
       "      <td>Task1</td>\n",
       "    </tr>\n",
       "    <tr>\n",
       "      <th>3</th>\n",
       "      <td>Open SO's , Open Opportunities, Open Meetings ...</td>\n",
       "      <td>4.000000</td>\n",
       "      <td>3.0-4.0</td>\n",
       "      <td>Task4</td>\n",
       "    </tr>\n",
       "    <tr>\n",
       "      <th>4</th>\n",
       "      <td>The should be a menu which should allow the us...</td>\n",
       "      <td>5.000000</td>\n",
       "      <td>4.0-5.0</td>\n",
       "      <td>Task5</td>\n",
       "    </tr>\n",
       "  </tbody>\n",
       "</table>\n",
       "</div>"
      ],
      "text/plain": [
       "                                             Feature  Quantity    Label  \\\n",
       "0  Great AnnualSavings: Energy System module migr...  8.000000  7.0-8.0   \n",
       "1  Great AnnualSavings: Energy System module migr...  3.000000  2.0-3.0   \n",
       "2             Contract Rostering Module development   0.116944  0.0-1.0   \n",
       "3  Open SO's , Open Opportunities, Open Meetings ...  4.000000  3.0-4.0   \n",
       "4  The should be a menu which should allow the us...  5.000000  4.0-5.0   \n",
       "\n",
       "  Encoded Label  \n",
       "0         Task7  \n",
       "1         Task3  \n",
       "2         Task1  \n",
       "3         Task4  \n",
       "4         Task5  "
      ]
     },
     "execution_count": 73,
     "metadata": {},
     "output_type": "execute_result"
    }
   ],
   "source": [
    "res3.head()"
   ]
  },
  {
   "cell_type": "code",
   "execution_count": 75,
   "metadata": {},
   "outputs": [],
   "source": [
    "striped=res3[\"Feature\"].apply(lambda x : \",\".join(list(set(x.split(\"[stop]\")))).lstrip().rstrip())\n",
    "res4=pd.DataFrame([striped,res3[\"Quantity\"],res3[\"Label\"],res3[\"Encoded Label\"]]).transpose()"
   ]
  },
  {
   "cell_type": "code",
   "execution_count": null,
   "metadata": {},
   "outputs": [],
   "source": [
    "res4[res4.duplicated(subset=\"Feature\")]"
   ]
  },
  {
   "cell_type": "code",
   "execution_count": 77,
   "metadata": {},
   "outputs": [],
   "source": [
    "res4=res4.drop_duplicates(subset=\"Feature\")"
   ]
  },
  {
   "cell_type": "code",
   "execution_count": 78,
   "metadata": {},
   "outputs": [
    {
     "name": "stdout",
     "output_type": "stream",
     "text": [
      "<class 'pandas.core.frame.DataFrame'>\n",
      "Int64Index: 153975 entries, 0 to 154314\n",
      "Data columns (total 4 columns):\n",
      "Feature          153975 non-null object\n",
      "Quantity         153975 non-null object\n",
      "Label            153975 non-null object\n",
      "Encoded Label    153975 non-null object\n",
      "dtypes: object(4)\n",
      "memory usage: 5.9+ MB\n"
     ]
    }
   ],
   "source": [
    "res4.info()"
   ]
  },
  {
   "cell_type": "code",
   "execution_count": 79,
   "metadata": {},
   "outputs": [],
   "source": [
    "import csv\n",
    "res4.to_csv(\"Timesheet_dataset_no_dups_label_Encoded-description.csv\",index=False,quoting=csv.QUOTE_NONNUMERIC)"
   ]
  },
  {
   "cell_type": "code",
   "execution_count": 76,
   "metadata": {},
   "outputs": [],
   "source": [
    "res3.to_pickle(\"Timesheet_dataset_no_dups.pickle\",)"
   ]
  },
  {
   "cell_type": "code",
   "execution_count": 81,
   "metadata": {},
   "outputs": [],
   "source": [
    "res4.to_pickle(\"Timesheet_dataset_no_dups_label_Encoded.pickle\",)"
   ]
  },
  {
   "cell_type": "code",
   "execution_count": 80,
   "metadata": {},
   "outputs": [],
   "source": [
    "del res4[\"Quantity\"]"
   ]
  },
  {
   "cell_type": "code",
   "execution_count": null,
   "metadata": {},
   "outputs": [],
   "source": []
  }
 ],
 "metadata": {
  "kernelspec": {
   "display_name": "Python 3",
   "language": "python",
   "name": "python3"
  },
  "language_info": {
   "codemirror_mode": {
    "name": "ipython",
    "version": 3
   },
   "file_extension": ".py",
   "mimetype": "text/x-python",
   "name": "python",
   "nbconvert_exporter": "python",
   "pygments_lexer": "ipython3",
   "version": "3.6.5"
  }
 },
 "nbformat": 4,
 "nbformat_minor": 2
}
