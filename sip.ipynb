{
 "cells": [
  {
   "cell_type": "code",
   "execution_count": 1,
   "metadata": {},
   "outputs": [
    {
     "data": {
      "text/html": [
       "        <script type=\"text/javascript\">\n",
       "        window.PlotlyConfig = {MathJaxConfig: 'local'};\n",
       "        if (window.MathJax) {MathJax.Hub.Config({SVG: {font: \"STIX-Web\"}});}\n",
       "        if (typeof require !== 'undefined') {\n",
       "        require.undef(\"plotly\");\n",
       "        requirejs.config({\n",
       "            paths: {\n",
       "                'plotly': ['https://cdn.plot.ly/plotly-latest.min']\n",
       "            }\n",
       "        });\n",
       "        require(['plotly'], function(Plotly) {\n",
       "            window._Plotly = Plotly;\n",
       "        });\n",
       "        }\n",
       "        </script>\n",
       "        "
      ]
     },
     "metadata": {},
     "output_type": "display_data"
    }
   ],
   "source": [
    "# Importing necessary libraries \n",
    "import pandas as pd\n",
    "import numpy as np\n",
    "import matplotlib.pyplot as plt\n",
    "import seaborn as sns\n",
    "import plotly.offline as py\n",
    "color = sns.color_palette()\n",
    "import plotly.graph_objs as go\n",
    "py.init_notebook_mode(connected=True)\n",
    "import plotly.tools as tls\n",
    "import warnings\n",
    "warnings.filterwarnings('ignore')\n",
    "import os\n",
    "import glob\n",
    "import re\n",
    "import string\n"
   ]
  },
  {
   "cell_type": "code",
   "execution_count": 2,
   "metadata": {},
   "outputs": [],
   "source": [
    "sip_df=pd.read_csv(r\"Sip-task-info.csv\",engine='python')"
   ]
  },
  {
   "cell_type": "code",
   "execution_count": 10,
   "metadata": {},
   "outputs": [
    {
     "data": {
      "text/html": [
       "<div>\n",
       "<style scoped>\n",
       "    .dataframe tbody tr th:only-of-type {\n",
       "        vertical-align: middle;\n",
       "    }\n",
       "\n",
       "    .dataframe tbody tr th {\n",
       "        vertical-align: top;\n",
       "    }\n",
       "\n",
       "    .dataframe thead th {\n",
       "        text-align: right;\n",
       "    }\n",
       "</style>\n",
       "<table border=\"1\" class=\"dataframe\">\n",
       "  <thead>\n",
       "    <tr style=\"text-align: right;\">\n",
       "      <th></th>\n",
       "      <th>TaskNumber</th>\n",
       "      <th>Priority</th>\n",
       "      <th>RaisedByID</th>\n",
       "      <th>AssignedToID</th>\n",
       "      <th>AuthorisedByID</th>\n",
       "      <th>HoursEstimate</th>\n",
       "      <th>HoursActual</th>\n",
       "      <th>DeveloperID</th>\n",
       "      <th>DeveloperHoursActual</th>\n",
       "      <th>TaskPerformance</th>\n",
       "      <th>DeveloperPerformance</th>\n",
       "    </tr>\n",
       "  </thead>\n",
       "  <tbody>\n",
       "    <tr>\n",
       "      <th>count</th>\n",
       "      <td>12299.000000</td>\n",
       "      <td>12299.000000</td>\n",
       "      <td>12299.000000</td>\n",
       "      <td>12299.000000</td>\n",
       "      <td>4265.000000</td>\n",
       "      <td>12299.000000</td>\n",
       "      <td>12299.000000</td>\n",
       "      <td>12299.000000</td>\n",
       "      <td>12299.000000</td>\n",
       "      <td>12299.000000</td>\n",
       "      <td>10200.000000</td>\n",
       "    </tr>\n",
       "    <tr>\n",
       "      <th>mean</th>\n",
       "      <td>8932.838686</td>\n",
       "      <td>2.176356</td>\n",
       "      <td>37.103017</td>\n",
       "      <td>37.296772</td>\n",
       "      <td>45.667526</td>\n",
       "      <td>10.152034</td>\n",
       "      <td>13.175468</td>\n",
       "      <td>36.627449</td>\n",
       "      <td>7.724366</td>\n",
       "      <td>-3.023434</td>\n",
       "      <td>0.467541</td>\n",
       "    </tr>\n",
       "    <tr>\n",
       "      <th>std</th>\n",
       "      <td>3271.407366</td>\n",
       "      <td>1.720049</td>\n",
       "      <td>19.859530</td>\n",
       "      <td>18.823674</td>\n",
       "      <td>18.773525</td>\n",
       "      <td>28.841783</td>\n",
       "      <td>68.724667</td>\n",
       "      <td>18.958718</td>\n",
       "      <td>36.015641</td>\n",
       "      <td>67.219867</td>\n",
       "      <td>38.666102</td>\n",
       "    </tr>\n",
       "    <tr>\n",
       "      <th>min</th>\n",
       "      <td>1735.000000</td>\n",
       "      <td>1.000000</td>\n",
       "      <td>1.000000</td>\n",
       "      <td>1.000000</td>\n",
       "      <td>6.000000</td>\n",
       "      <td>0.010000</td>\n",
       "      <td>0.010000</td>\n",
       "      <td>1.000000</td>\n",
       "      <td>0.010000</td>\n",
       "      <td>-2469.160000</td>\n",
       "      <td>-2079.500000</td>\n",
       "    </tr>\n",
       "    <tr>\n",
       "      <th>25%</th>\n",
       "      <td>6188.500000</td>\n",
       "      <td>1.000000</td>\n",
       "      <td>16.000000</td>\n",
       "      <td>22.000000</td>\n",
       "      <td>43.000000</td>\n",
       "      <td>1.000000</td>\n",
       "      <td>1.000000</td>\n",
       "      <td>13.000000</td>\n",
       "      <td>1.000000</td>\n",
       "      <td>-1.750000</td>\n",
       "      <td>0.000000</td>\n",
       "    </tr>\n",
       "    <tr>\n",
       "      <th>50%</th>\n",
       "      <td>9090.000000</td>\n",
       "      <td>1.000000</td>\n",
       "      <td>42.000000</td>\n",
       "      <td>42.000000</td>\n",
       "      <td>58.000000</td>\n",
       "      <td>3.000000</td>\n",
       "      <td>3.000000</td>\n",
       "      <td>42.000000</td>\n",
       "      <td>2.000000</td>\n",
       "      <td>0.000000</td>\n",
       "      <td>0.000000</td>\n",
       "    </tr>\n",
       "    <tr>\n",
       "      <th>75%</th>\n",
       "      <td>11766.500000</td>\n",
       "      <td>3.000000</td>\n",
       "      <td>58.000000</td>\n",
       "      <td>58.000000</td>\n",
       "      <td>58.000000</td>\n",
       "      <td>7.000000</td>\n",
       "      <td>8.500000</td>\n",
       "      <td>58.000000</td>\n",
       "      <td>5.250000</td>\n",
       "      <td>0.500000</td>\n",
       "      <td>1.000000</td>\n",
       "    </tr>\n",
       "    <tr>\n",
       "      <th>max</th>\n",
       "      <td>14377.000000</td>\n",
       "      <td>10.000000</td>\n",
       "      <td>67.000000</td>\n",
       "      <td>65.000000</td>\n",
       "      <td>58.000000</td>\n",
       "      <td>910.000000</td>\n",
       "      <td>2490.160000</td>\n",
       "      <td>65.000000</td>\n",
       "      <td>2100.500000</td>\n",
       "      <td>701.140000</td>\n",
       "      <td>709.840000</td>\n",
       "    </tr>\n",
       "  </tbody>\n",
       "</table>\n",
       "</div>"
      ],
      "text/plain": [
       "         TaskNumber      Priority    RaisedByID  AssignedToID  AuthorisedByID  \\\n",
       "count  12299.000000  12299.000000  12299.000000  12299.000000     4265.000000   \n",
       "mean    8932.838686      2.176356     37.103017     37.296772       45.667526   \n",
       "std     3271.407366      1.720049     19.859530     18.823674       18.773525   \n",
       "min     1735.000000      1.000000      1.000000      1.000000        6.000000   \n",
       "25%     6188.500000      1.000000     16.000000     22.000000       43.000000   \n",
       "50%     9090.000000      1.000000     42.000000     42.000000       58.000000   \n",
       "75%    11766.500000      3.000000     58.000000     58.000000       58.000000   \n",
       "max    14377.000000     10.000000     67.000000     65.000000       58.000000   \n",
       "\n",
       "       HoursEstimate   HoursActual   DeveloperID  DeveloperHoursActual  \\\n",
       "count   12299.000000  12299.000000  12299.000000          12299.000000   \n",
       "mean       10.152034     13.175468     36.627449              7.724366   \n",
       "std        28.841783     68.724667     18.958718             36.015641   \n",
       "min         0.010000      0.010000      1.000000              0.010000   \n",
       "25%         1.000000      1.000000     13.000000              1.000000   \n",
       "50%         3.000000      3.000000     42.000000              2.000000   \n",
       "75%         7.000000      8.500000     58.000000              5.250000   \n",
       "max       910.000000   2490.160000     65.000000           2100.500000   \n",
       "\n",
       "       TaskPerformance  DeveloperPerformance  \n",
       "count     12299.000000          10200.000000  \n",
       "mean         -3.023434              0.467541  \n",
       "std          67.219867             38.666102  \n",
       "min       -2469.160000          -2079.500000  \n",
       "25%          -1.750000              0.000000  \n",
       "50%           0.000000              0.000000  \n",
       "75%           0.500000              1.000000  \n",
       "max         701.140000            709.840000  "
      ]
     },
     "execution_count": 10,
     "metadata": {},
     "output_type": "execute_result"
    }
   ],
   "source": [
    "sip_df.describe()"
   ]
  },
  {
   "cell_type": "code",
   "execution_count": 9,
   "metadata": {},
   "outputs": [
    {
     "data": {
      "text/plain": [
       "count    12299.000000\n",
       "mean        13.175468\n",
       "std         68.724667\n",
       "min          0.010000\n",
       "25%          1.000000\n",
       "50%          3.000000\n",
       "75%          8.500000\n",
       "max       2490.160000\n",
       "Name: HoursActual, dtype: float64"
      ]
     },
     "execution_count": 9,
     "metadata": {},
     "output_type": "execute_result"
    }
   ],
   "source": [
    "sip_df['HoursActual'].describe()"
   ]
  },
  {
   "cell_type": "code",
   "execution_count": 11,
   "metadata": {},
   "outputs": [
    {
     "name": "stdout",
     "output_type": "stream",
     "text": [
      "(12299,)\n",
      "1229\n"
     ]
    }
   ],
   "source": [
    "data=sip_df.HoursActual.values\n",
    "sort_data=np.array(np.sort(data))\n",
    "print(sort_data.shape)\n",
    "idx=0\n",
    "offset=sort_data.shape[0]//10\n",
    "print(offset)\n",
    "binned=[]\n",
    "for i in range(10):\n",
    "    binned.append(sort_data[idx:idx+offset])\n",
    "    idx+=offset\n",
    "binned=np.array(binned)"
   ]
  },
  {
   "cell_type": "code",
   "execution_count": 12,
   "metadata": {},
   "outputs": [
    {
     "name": "stdout",
     "output_type": "stream",
     "text": [
      "0.0-0.0\n",
      "0.0-1.0\n",
      "1.0-1.0\n",
      "1.0-2.0\n",
      "2.0-3.0\n",
      "3.0-4.0\n",
      "4.0-7.0\n",
      "7.0-10.0\n",
      "10.0-23.0\n",
      "23.89-698.0\n"
     ]
    }
   ],
   "source": [
    "import math\n",
    "catgories=[]\n",
    "for i,bin in enumerate(binned):\n",
    "    \n",
    "    if(i==9):\n",
    "        print(str(bin[0])+\"-\"+str(float(math.floor(bin[-1]))))\n",
    "        catgories.append(str(float(math.floor(bin[0])))+\"-\"+str(100.0))\n",
    "    else:\n",
    "        print(str(float(math.floor(bin[0])))+\"-\"+str(float(math.floor(bin[-1]))))\n",
    "        \n",
    "        catgories.append(str(float(math.floor(bin[0])))+\"-\"+str(float(math.floor(bin[-1]))))\n",
    "    "
   ]
  },
  {
   "cell_type": "code",
   "execution_count": 13,
   "metadata": {},
   "outputs": [
    {
     "data": {
      "text/plain": [
       "['0.0-1.0',\n",
       " '1.0-2.0',\n",
       " '2.0-3.0',\n",
       " '3.0-4.0',\n",
       " '4.0-7.0',\n",
       " '7.0-10.0',\n",
       " '10.0-23.0',\n",
       " '23.0-100.0']"
      ]
     },
     "execution_count": 13,
     "metadata": {},
     "output_type": "execute_result"
    }
   ],
   "source": [
    "catgories.remove('0.0-0.0')\n",
    "catgories.remove('1.0-1.0')\n",
    "catgories"
   ]
  },
  {
   "cell_type": "code",
   "execution_count": 14,
   "metadata": {},
   "outputs": [],
   "source": [
    "labels=[]\n",
    "encoded_labels=[]\n",
    "for dat in data:\n",
    "    for label in catgories:\n",
    "        if (dat>=float(label.split(\"-\")[0]) and dat<=float(label.split(\"-\")[-1])):\n",
    "            labels.append(label)\n",
    "            encoded_labels.append(\"Task\"+str(catgories.index(label)+1))\n",
    "            break\n",
    "        if(dat>=100):\n",
    "            labels.append(\">100\")\n",
    "            encoded_labels.append(\"Task9\")\n",
    "            break\n",
    "            "
   ]
  },
  {
   "cell_type": "code",
   "execution_count": 19,
   "metadata": {},
   "outputs": [
    {
     "data": {
      "text/plain": [
       "(9,)"
      ]
     },
     "execution_count": 19,
     "metadata": {},
     "output_type": "execute_result"
    }
   ],
   "source": []
  },
  {
   "cell_type": "code",
   "execution_count": null,
   "metadata": {},
   "outputs": [],
   "source": []
  }
 ],
 "metadata": {
  "kernelspec": {
   "display_name": "Python 3",
   "language": "python",
   "name": "python3"
  },
  "language_info": {
   "codemirror_mode": {
    "name": "ipython",
    "version": 3
   },
   "file_extension": ".py",
   "mimetype": "text/x-python",
   "name": "python",
   "nbconvert_exporter": "python",
   "pygments_lexer": "ipython3",
   "version": "3.6.5"
  }
 },
 "nbformat": 4,
 "nbformat_minor": 2
}
